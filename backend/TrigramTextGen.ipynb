{
 "cells": [
  {
   "attachments": {},
   "cell_type": "markdown",
   "metadata": {},
   "source": [
    "\t# N-Gram Model to Generate Text\n",
    "    ### Enter an input to make it sound like Kafka and Dante!"
   ]
  },
  {
   "cell_type": "code",
   "execution_count": 15,
   "metadata": {},
   "outputs": [],
   "source": [
    "import numpy as np\n",
    "import random\n",
    "import re"
   ]
  },
  {
   "cell_type": "code",
   "execution_count": 16,
   "metadata": {},
   "outputs": [],
   "source": [
    "def generate_ngrams(text, n):\n",
    "    words = re.findall(r'\\b\\w+\\b', text)\n",
    "    ngrams = []\n",
    "    for i in range(len(words) - n + 1):\n",
    "        ngrams.append(tuple(words[i:i+n]))\n",
    "    return ngrams"
   ]
  },
  {
   "cell_type": "code",
   "execution_count": 17,
   "metadata": {},
   "outputs": [],
   "source": [
    "def train_model(text, n):\n",
    "    ngrams = generate_ngrams(text, n)\n",
    "    model = {}\n",
    "    for ngram in ngrams:\n",
    "        prefix = ngram[:-1]\n",
    "        suffix = ngram[-1]\n",
    "        if prefix not in model:\n",
    "            model[prefix] = {}\n",
    "        if suffix not in model[prefix]:\n",
    "            model[prefix][suffix] = 0\n",
    "        model[prefix][suffix] += 1\n",
    "    return model"
   ]
  },
  {
   "cell_type": "code",
   "execution_count": 18,
   "metadata": {},
   "outputs": [],
   "source": [
    "# def laplace_smoothing(model, n, prefix):\n",
    "#     count = sum(model[prefix].values()) if prefix in model else 0\n",
    "#     return (count + 1) / (sum(sum(counts.values()) for counts in model.values()) + len(model))"
   ]
  },
  {
   "cell_type": "code",
   "execution_count": 19,
   "metadata": {},
   "outputs": [],
   "source": [
    "def laplace_smoothing(model, vocabulary_size, k):\n",
    "    smoothed_model = {}\n",
    "    for prefix in model:\n",
    "        smoothed_model[prefix] = {}\n",
    "        prefix_count = sum(model[prefix].values())\n",
    "        for suffix in model[prefix]:\n",
    "            smoothed_model[prefix][suffix] = (model[prefix][suffix] + k) / (prefix_count + k * vocabulary_size)\n",
    "    return smoothed_model"
   ]
  },
  {
   "cell_type": "code",
   "execution_count": 20,
   "metadata": {},
   "outputs": [],
   "source": [
    "def generate_text(model, n, seed_text, max_length):\n",
    "    words = seed_text.split()\n",
    "    prefix = tuple(words[-n+1:])\n",
    "    output = seed_text\n",
    "    while len(words) < max_length:\n",
    "        if prefix in model:\n",
    "            suffixes = model[prefix]\n",
    "            next_word = random.choices(list(suffixes.keys()), weights=list(suffixes.values()), k=1)[0]\n",
    "        else:\n",
    "            next_word = random.choice(list(model.keys()))\n",
    "        output += ' ' + str(next_word)\n",
    "        words.append(next_word)\n",
    "        prefix = tuple(words[-n+1:])\n",
    "    return output\n"
   ]
  },
  {
   "cell_type": "code",
   "execution_count": 21,
   "metadata": {},
   "outputs": [
    {
     "name": "stdout",
     "output_type": "stream",
     "text": [
      "Generated text:\n",
      "to have his breakfast Only then would he ever have allowed Gregor the chief clerk come in she was so\n"
     ]
    }
   ],
   "source": [
    "with open('../resources/kafka-metamorphosis.txt', 'r', encoding='utf-8') as f:\n",
    "        text = f.read()\n",
    "vocabulary_size = len(set(text.split()))\n",
    "model = train_model(text, 3)\n",
    "smoothed_model = laplace_smoothing(model, vocabulary_size, 1)\n",
    "seed = \"to have his breakfast\"\n",
    "max_length = 20\n",
    "generated_text = generate_text(smoothed_model, 3, seed, max_length)\n",
    "print(\"Generated text:\")\n",
    "print(generated_text)"
   ]
  }
 ],
 "metadata": {
  "kernelspec": {
   "display_name": "Python 3",
   "language": "python",
   "name": "python3"
  },
  "language_info": {
   "codemirror_mode": {
    "name": "ipython",
    "version": 3
   },
   "file_extension": ".py",
   "mimetype": "text/x-python",
   "name": "python",
   "nbconvert_exporter": "python",
   "pygments_lexer": "ipython3",
   "version": "3.7.0"
  },
  "orig_nbformat": 4,
  "vscode": {
   "interpreter": {
    "hash": "a3aa946b37155ee792b0768566196dd6aee7d55cfcc0160224497396afed660c"
   }
  }
 },
 "nbformat": 4,
 "nbformat_minor": 2
}
