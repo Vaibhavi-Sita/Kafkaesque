{
 "cells": [
  {
   "attachments": {},
   "cell_type": "markdown",
   "metadata": {},
   "source": [
    "\t# N-Gram Model to Generate Text\n",
    "    ### Enter an input to make it sound like Kafka and Dante!"
   ]
  },
  {
   "cell_type": "code",
   "execution_count": 1,
   "metadata": {},
   "outputs": [],
   "source": [
    "import numpy as np\n",
    "import random\n",
    "import re"
   ]
  },
  {
   "cell_type": "code",
   "execution_count": 2,
   "metadata": {},
   "outputs": [
    {
     "name": "stdout",
     "output_type": "stream",
     "text": [
      "Requirement already satisfied: anvil-uplink in c:\\users\\vsita_ru1\\appdata\\local\\programs\\python\\python37\\lib\\site-packages (0.4.1)\n",
      "Requirement already satisfied: ws4py in c:\\users\\vsita_ru1\\appdata\\local\\programs\\python\\python37\\lib\\site-packages (from anvil-uplink) (0.5.1)\n",
      "Collecting argparse\n",
      "  Using cached argparse-1.4.0-py2.py3-none-any.whl (23 kB)\n",
      "Requirement already satisfied: six in c:\\users\\vsita_ru1\\appdata\\local\\programs\\python\\python37\\lib\\site-packages (from anvil-uplink) (1.16.0)\n",
      "Requirement already satisfied: future in c:\\users\\vsita_ru1\\appdata\\local\\programs\\python\\python37\\lib\\site-packages (from anvil-uplink) (0.18.2)\n",
      "Installing collected packages: argparse\n",
      "Successfully installed argparse-1.4.0\n",
      "Note: you may need to restart the kernel to use updated packages.\n"
     ]
    },
    {
     "name": "stderr",
     "output_type": "stream",
     "text": [
      "WARNING: You are using pip version 21.3.1; however, version 23.0 is available.\n",
      "You should consider upgrading via the 'c:\\Users\\vsita_ru1\\AppData\\Local\\Programs\\Python\\Python37\\python.exe -m pip install --upgrade pip' command.\n"
     ]
    }
   ],
   "source": [
    "%pip install anvil-uplink"
   ]
  },
  {
   "cell_type": "code",
   "execution_count": 3,
   "metadata": {},
   "outputs": [
    {
     "name": "stdout",
     "output_type": "stream",
     "text": [
      "Connecting to wss://anvil.works/uplink\n",
      "Anvil websocket open\n",
      "Connected to \"Default Environment\" as SERVER\n"
     ]
    }
   ],
   "source": [
    "import anvil.server\n",
    "\n",
    "# anvil.server.connect('client_FQMN4IG2MJ7K74OVJKCGJVZD-6RKH5345YDHTXRDQ')\n",
    "anvil.server.connect('server_LABXEYN6RHARVQE75RZMVEWB-6RKH5345YDHTXRDQ')"
   ]
  },
  {
   "cell_type": "code",
   "execution_count": 4,
   "metadata": {},
   "outputs": [],
   "source": [
    "def generate_ngrams(text, n):\n",
    "    words = re.findall(r'\\b\\w+\\b', text)\n",
    "    ngrams = []\n",
    "    for i in range(len(words) - n + 1):\n",
    "        ngrams.append(tuple(words[i:i+n]))\n",
    "    return ngrams"
   ]
  },
  {
   "cell_type": "code",
   "execution_count": 5,
   "metadata": {},
   "outputs": [],
   "source": [
    "def train_model(text, n):\n",
    "    ngrams = generate_ngrams(text, n)\n",
    "    model = {}\n",
    "    for ngram in ngrams:\n",
    "        prefix = ngram[:-1]\n",
    "        suffix = ngram[-1]\n",
    "        if prefix not in model:\n",
    "            model[prefix] = {}\n",
    "        if suffix not in model[prefix]:\n",
    "            model[prefix][suffix] = 0\n",
    "        model[prefix][suffix] += 1\n",
    "    return model"
   ]
  },
  {
   "cell_type": "code",
   "execution_count": 6,
   "metadata": {},
   "outputs": [],
   "source": [
    "# def laplace_smoothing(model, n, prefix):\n",
    "#     count = sum(model[prefix].values()) if prefix in model else 0\n",
    "#     return (count + 1) / (sum(sum(counts.values()) for counts in model.values()) + len(model))"
   ]
  },
  {
   "cell_type": "code",
   "execution_count": 7,
   "metadata": {},
   "outputs": [],
   "source": [
    "def laplace_smoothing(model, vocabulary_size, k):\n",
    "    smoothed_model = {}\n",
    "    for prefix in model:\n",
    "        smoothed_model[prefix] = {}\n",
    "        prefix_count = sum(model[prefix].values())\n",
    "        for suffix in model[prefix]:\n",
    "            smoothed_model[prefix][suffix] = (model[prefix][suffix] + k) / (prefix_count + k * vocabulary_size)\n",
    "    return smoothed_model"
   ]
  },
  {
   "cell_type": "code",
   "execution_count": 8,
   "metadata": {},
   "outputs": [],
   "source": [
    "def generate_text(model, n, seed_text, max_length):\n",
    "    words = seed_text.split()\n",
    "    prefix = tuple(words[-n+1:])\n",
    "    output = seed_text\n",
    "    while len(words) < max_length:\n",
    "        if prefix in model:\n",
    "            suffixes = model[prefix]\n",
    "            next_word = random.choices(list(suffixes.keys()), weights=list(suffixes.values()), k=1)[0]\n",
    "        else:\n",
    "            next_word = random.choice(list(model.keys()))\n",
    "        output += ' ' + str(next_word)\n",
    "        words.append(next_word)\n",
    "        prefix = tuple(words[-n+1:])\n",
    "    return output\n"
   ]
  },
  {
   "cell_type": "code",
   "execution_count": 9,
   "metadata": {},
   "outputs": [],
   "source": [
    "with open('../resources/kafka-metamorphosis.txt', 'r', encoding='utf-8') as f:\n",
    "        text = f.read()\n",
    "vocabulary_size = len(set(text.split()))\n",
    "model = train_model(text, 3)\n",
    "smoothed_model = laplace_smoothing(model, vocabulary_size, 1)"
   ]
  },
  {
   "cell_type": "code",
   "execution_count": 10,
   "metadata": {},
   "outputs": [],
   "source": [
    "import anvil.media\n",
    "\n",
    "@anvil.server.callable\n",
    "def generate_result(userinput):\n",
    "    generated_text = generate_text(smoothed_model, 3, userinput, 100)\n",
    "    return generated_text"
   ]
  },
  {
   "cell_type": "code",
   "execution_count": 11,
   "metadata": {},
   "outputs": [],
   "source": [
    "anvil.server.wait_forever()"
   ]
  }
 ],
 "metadata": {
  "kernelspec": {
   "display_name": "Python 3",
   "language": "python",
   "name": "python3"
  },
  "language_info": {
   "codemirror_mode": {
    "name": "ipython",
    "version": 3
   },
   "file_extension": ".py",
   "mimetype": "text/x-python",
   "name": "python",
   "nbconvert_exporter": "python",
   "pygments_lexer": "ipython3",
   "version": "3.7.0"
  },
  "orig_nbformat": 4,
  "vscode": {
   "interpreter": {
    "hash": "a3aa946b37155ee792b0768566196dd6aee7d55cfcc0160224497396afed660c"
   }
  }
 },
 "nbformat": 4,
 "nbformat_minor": 2
}
